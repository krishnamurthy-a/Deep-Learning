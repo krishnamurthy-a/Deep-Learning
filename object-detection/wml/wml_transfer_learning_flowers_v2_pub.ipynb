{
 "cells": [
  {
   "cell_type": "markdown",
   "metadata": {},
   "source": [
    "<table style=\"border: none\" align=\"center\">\n",
    "   <tr style=\"border: none\" align=\"left\">\n",
    "      <td style=\"border: none\" align=\"left\"><font face=\"verdana\" size=\"4\" color=\"black\"><b>Building an object detection deep learning model and deploying it as a REST service</b></font></td>      \n",
    "   </tr> \n",
    "   <tr style=\"border: none\">\n",
    "       <td style=\"border: none\"><img src=\"https://images.indianexpress.com/2018/07/neelakurinji-kerala-tourism-org-balan-madhavan-759.jpg\" width=\"600\" alt=\"Icon\"></td>\n",
    "   </tr>\n",
    "</table>"
   ]
  },
  {
   "cell_type": "markdown",
   "metadata": {},
   "source": [
    "This notebook contains steps and code to train a deep learning model to identify objects using transfer learning technique. The model training will be done using Watson Machine Learning service. The trained model is then deployed as a ReST service that can be used for making real-time predictions. \n",
    "In this notebook, we will use Watson Machine Learning Python Client to interact with the Watson Machine Learning service.\n",
    "\n",
    "Some familiarity with Python is helpful. This notebook uses Python 3.\n",
    "\n",
    "\n",
    "## Learning goals\n",
    "\n",
    "The learning goals of this notebook are:\n",
    "\n",
    "-  Building a network to detect objects of interest in an image\n",
    "-  Working with Watson Machine Learning experiments to train Deep Learning models (Keras).\n",
    "-  Saving trained models in Watson Machine Learning repository.\n",
    "-  Online deployment and scoring of trained model.\n",
    "\n",
    "\n",
    "## Contents\n",
    "\n",
    "This notebook contains the following parts:\n",
    "\n",
    "1.\t[Setup](#setup)\n",
    "2.\t[Training definition](#definition)\n",
    "3.\t[Experiment definition](#experiment)\n",
    "4.\t[Experiment Run](#run)\n",
    "5.\t[Deploy and Score](#scoring)\n",
    "6.\t[Summary and next steps](#summary)"
   ]
  },
  {
   "cell_type": "markdown",
   "metadata": {},
   "source": [
    "<a id=\"setup\"></a>\n",
    "## 1. Setup\n",
    "\n",
    "Before you use the sample code in this notebook, you must perform the following setup tasks:\n",
    "\n",
    "-  Create a [Watson Machine Learning Service](https://console.ng.bluemix.net/catalog/services/ibm-watson-machine-learning/) instance (a lite plan is offered). \n",
    "-  Create [Cloud Object Storage (COS)](https://console.bluemix.net/catalog/infrastructure/cloud-object-storage) instance (a lite plan is offered).\n",
    "    - After you create COS instance, go to your COS dashboard.\n",
    "    - In \"Service credentials\" tab, click on \"New Credential\",\n",
    "    - Add inline configuration parameter: {\"HMAC\":true}, click \"Add\".\n",
    "\n",
    "    This configuration parameter will add section below to instance credentials which will be used later on,\n",
    "    ```\n",
    "      \"cos_hmac_keys\": {\n",
    "            \"access_key_id\": \"722432c254bc4eaa96e05897bf2779e2\",\n",
    "            \"secret_access_key\": \"286965ac10ecd4de8b44306288c7f5a3e3cf81976a03075c\"\n",
    "       }\n",
    "    ```"
   ]
  },
  {
   "cell_type": "markdown",
   "metadata": {},
   "source": [
    "### 1.1 Install required Python libraries"
   ]
  },
  {
   "cell_type": "markdown",
   "metadata": {},
   "source": [
    "#### Install `watson-machine-learning-client` from pypi"
   ]
  },
  {
   "cell_type": "code",
   "execution_count": null,
   "metadata": {},
   "outputs": [],
   "source": [
    "!pip install --upgrade watson-machine-learning-client"
   ]
  },
  {
   "cell_type": "markdown",
   "metadata": {},
   "source": [
    "#### Install packages for visualizations"
   ]
  },
  {
   "cell_type": "code",
   "execution_count": null,
   "metadata": {},
   "outputs": [],
   "source": [
    "!pip install cufflinks"
   ]
  },
  {
   "cell_type": "markdown",
   "metadata": {},
   "source": [
    "#### Install wget package"
   ]
  },
  {
   "cell_type": "code",
   "execution_count": null,
   "metadata": {},
   "outputs": [],
   "source": [
    "!pip install wget"
   ]
  },
  {
   "cell_type": "markdown",
   "metadata": {},
   "source": [
    "### 1.2 Working with Cloud Object Storage"
   ]
  },
  {
   "cell_type": "markdown",
   "metadata": {},
   "source": [
    "Boto library allows Python developers to manage Cloud Object Storage."
   ]
  },
  {
   "cell_type": "markdown",
   "metadata": {},
   "source": [
    "**Tip:** If ibm_boto3 is not preinstalled in you environment please install it by running the following command: `!pip install ibm-cos-sdk`"
   ]
  },
  {
   "cell_type": "code",
   "execution_count": 2,
   "metadata": {},
   "outputs": [],
   "source": [
    "import ibm_boto3\n",
    "from ibm_botocore.client import Config\n",
    "import os\n",
    "import json\n",
    "import warnings\n",
    "import time"
   ]
  },
  {
   "cell_type": "markdown",
   "metadata": {},
   "source": [
    "We define the endpoint we will use. You can find this information in \"Endpoint\" section of your Cloud Object Storage intance's dashbord."
   ]
  },
  {
   "cell_type": "code",
   "execution_count": 3,
   "metadata": {},
   "outputs": [],
   "source": [
    "\n",
    "cos_credentials = {\n",
    "  \"apikey\": \"*****\",\n",
    "  \"cos_hmac_keys\": {\n",
    "    \"access_key_id\": \"****\",\n",
    "    \"secret_access_key\": \"****\"\n",
    "  },\n",
    "  \"endpoints\": \"https://cos-service.bluemix.net/endpoints\",\n",
    "  \"iam_apikey_description\": \"Auto generated apikey during resource-key operation for Instance - crn:v1:bluemix:public:cloud-object-storage:global:a/aab26fab86721e6737a39e414912e683:366a0811-19f8-49e6-862e-88812b3ed98f::\",\n",
    "  \"iam_apikey_name\": \"auto-generated-apikey-17846d2e-0fb6-4f85-bfc4-2a9811b96a76\",\n",
    "  \"iam_role_crn\": \"crn:v1:bluemix:public:iam::::serviceRole:Writer\",\n",
    "  \"iam_serviceid_crn\": \"crn:v1:bluemix:public:iam-identity::a/aab26fab86721e6737a39e414912e683::serviceid:ServiceId-fce2e66a-7fd1-436f-961e-2d1143e26784\",\n",
    "  \"resource_instance_id\": \"crn:v1:bluemix:public:cloud-object-storage:global:a/aab26fab86721e6737a39e414912e683:366a0811-19f8-49e6-862e-88812b3ed98f::\"\n",
    "}\n",
    "\n",
    "api_key = cos_credentials['apikey']\n",
    "service_instance_id = cos_credentials['resource_instance_id']\n",
    "auth_endpoint = 'https://iam.bluemix.net/oidc/token'\n",
    "service_endpoint = 'https://s3.us-south.objectstorage.softlayer.net'"
   ]
  },
  {
   "cell_type": "markdown",
   "metadata": {},
   "source": [
    "We create Boto resource by providing type, endpoint_url and credentials."
   ]
  },
  {
   "cell_type": "code",
   "execution_count": 115,
   "metadata": {},
   "outputs": [],
   "source": [
    "cos = ibm_boto3.resource('s3',\n",
    "                         ibm_api_key_id=api_key,\n",
    "                         ibm_service_instance_id=service_instance_id,\n",
    "                         ibm_auth_endpoint=auth_endpoint,\n",
    "                         config=Config(signature_version='oauth'),\n",
    "                         endpoint_url=service_endpoint)"
   ]
  },
  {
   "cell_type": "markdown",
   "metadata": {},
   "source": [
    "Let's create the buckets we will use to store training data and training results."
   ]
  },
  {
   "cell_type": "markdown",
   "metadata": {},
   "source": [
    "**Note:**: Bucket name has to be unique - please update below ones to any unique name."
   ]
  },
  {
   "cell_type": "code",
   "execution_count": 6,
   "metadata": {},
   "outputs": [],
   "source": [
    "buckets = ['transfer-learning-flower-data', 'transfer-learning-flower-results']"
   ]
  },
  {
   "cell_type": "code",
   "execution_count": null,
   "metadata": {},
   "outputs": [],
   "source": [
    "\n",
    "for bucket in buckets:\n",
    "    if not cos.Bucket(bucket) in cos.buckets.all():\n",
    "        print('Creating bucket \"{}\"...'.format(bucket))\n",
    "        try:\n",
    "            cos.create_bucket(Bucket=bucket)\n",
    "        except ibm_boto3.exceptions.ibm_botocore.client.ClientError as e:\n",
    "            print('Error: {}.'.format(e.response['Error']['Message']))"
   ]
  },
  {
   "cell_type": "markdown",
   "metadata": {},
   "source": [
    "Now we should have our buckets created."
   ]
  },
  {
   "cell_type": "code",
   "execution_count": 116,
   "metadata": {},
   "outputs": [
    {
     "name": "stdout",
     "output_type": "stream",
     "text": [
      "[s3.Bucket(name='environ-donotdelete-pr-oajs4pppwl86pi'), s3.Bucket(name='kerasdeperrresult'), s3.Bucket(name='kerasdeploy8b80c06d3a8541cb96c3eac5c214e759'), s3.Bucket(name='kmnist-training-data'), s3.Bucket(name='kmnist-training-result'), s3.Bucket(name='localtests-donotdelete-pr-nmhthlofcqfaka'), s3.Bucket(name='test-krish-mnist'), s3.Bucket(name='tf-mnist-nnm'), s3.Bucket(name='titanicsurvivalpredictionf8684a7b97d94dde9b87f6e498cf1eb0'), s3.Bucket(name='transfer-learning-test1'), s3.Bucket(name='transfer-learning-test1-results')]\n"
     ]
    }
   ],
   "source": [
    "print(list(cos.buckets.all()))"
   ]
  },
  {
   "cell_type": "markdown",
   "metadata": {},
   "source": [
    "### 1.2 Downloading flower data and upload it to COS buckets"
   ]
  },
  {
   "cell_type": "markdown",
   "metadata": {},
   "source": [
    "We will work with **Flowers dataset** from University of Oxford to train the model. Let's download our training data and upload them to 'transfer-learning-flower-data' bucket. \n",
    "\n",
    "A subset of the **Flowers dataset** from University of Oxford is available in [here](https://github.com/krishnamurthy-a/Deep-Learning/raw/master/object-detection/data/flowers_data.zip). \n",
    "\n",
    "**Actions:**\n",
    "- Download the dataset and extract it in your local system.\n",
    "- Upload the extracted contents to 'transfer-learning-flower-data' bucket\n"
   ]
  },
  {
   "cell_type": "markdown",
   "metadata": {},
   "source": [
    "Let's see the list of all buckets and their contents."
   ]
  },
  {
   "cell_type": "code",
   "execution_count": null,
   "metadata": {},
   "outputs": [],
   "source": [
    "for obj in bucket_obj.objects.all():\n",
    "    print('Object key: {}'.format(obj.key))\n",
    "    print('Object size (kb): {}'.format(obj.size/1024))"
   ]
  },
  {
   "cell_type": "markdown",
   "metadata": {},
   "source": [
    "We are done with Cloud Object Storage, we are ready to train our model!"
   ]
  },
  {
   "cell_type": "markdown",
   "metadata": {},
   "source": [
    "### 1.3 Work with the Watson Machine Learning instance"
   ]
  },
  {
   "cell_type": "markdown",
   "metadata": {},
   "source": [
    "Authenticate to Watson Machine Learning service on Bluemix."
   ]
  },
  {
   "cell_type": "code",
   "execution_count": 7,
   "metadata": {},
   "outputs": [],
   "source": [
    "import urllib3, requests, json, base64, time, os\n",
    "warnings.filterwarnings('ignore')"
   ]
  },
  {
   "cell_type": "markdown",
   "metadata": {},
   "source": [
    "**Action**: Put authentication information from your instance of Watson Machine Learning service here."
   ]
  },
  {
   "cell_type": "code",
   "execution_count": 8,
   "metadata": {},
   "outputs": [],
   "source": [
    "wml_credentials = {\n",
    "  \"url\": \"https://ibm-watson-ml.mybluemix.net\",\n",
    "  \"access_key\": \"***\",\n",
    "  \"username\": \"***\",\n",
    "  \"password\": \"***\",\n",
    "  \"instance_id\": \"***\"\n",
    "}"
   ]
  },
  {
   "cell_type": "raw",
   "metadata": {},
   "source": [
    "!rm -rf $PIP_BUILD/watson-machine-learning-client"
   ]
  },
  {
   "cell_type": "raw",
   "metadata": {},
   "source": [
    "!pip install --upgrade watson-machine-learning-client"
   ]
  },
  {
   "cell_type": "markdown",
   "metadata": {},
   "source": [
    "#### Import `watson-machine-learning-client` and authenticate to service instance"
   ]
  },
  {
   "cell_type": "code",
   "execution_count": 9,
   "metadata": {},
   "outputs": [],
   "source": [
    "from watson_machine_learning_client import WatsonMachineLearningAPIClient"
   ]
  },
  {
   "cell_type": "code",
   "execution_count": 10,
   "metadata": {},
   "outputs": [],
   "source": [
    "client = WatsonMachineLearningAPIClient(wml_credentials)"
   ]
  },
  {
   "cell_type": "code",
   "execution_count": 11,
   "metadata": {},
   "outputs": [
    {
     "name": "stdout",
     "output_type": "stream",
     "text": [
      "1.0.313\n"
     ]
    }
   ],
   "source": [
    "print(client.version)"
   ]
  },
  {
   "cell_type": "markdown",
   "metadata": {},
   "source": [
    "<a id=\"definition\"></a>\n",
    "## 2. Training definitions"
   ]
  },
  {
   "cell_type": "markdown",
   "metadata": {},
   "source": [
    "### 2.2 Save training definition "
   ]
  },
  {
   "cell_type": "markdown",
   "metadata": {},
   "source": [
    "#### Get model definition content files from git (python scripts with to train the model)"
   ]
  },
  {
   "cell_type": "raw",
   "metadata": {},
   "source": [
    "!rm -rf wml_flowers_train.zip"
   ]
  },
  {
   "cell_type": "code",
   "execution_count": 14,
   "metadata": {},
   "outputs": [
    {
     "name": "stdout",
     "output_type": "stream",
     "text": [
      "wml_flowers_train.zip\r\n"
     ]
    }
   ],
   "source": [
    "training_filename = 'wml_flowers_train.zip'\n",
    "\n",
    "if os.path.isfile(training_filename):\n",
    "    !ls 'wml_flowers_train.zip'\n",
    "else:\n",
    "    !wget https://github.com/krishnamurthy-a/Deep-Learning/raw/master/object-detection/wml/wml_flowers_train.zip\n",
    "    !ls 'wml_flowers_train.zip'"
   ]
  },
  {
   "cell_type": "markdown",
   "metadata": {},
   "source": [
    "#### Prepare training definition metadata"
   ]
  },
  {
   "cell_type": "code",
   "execution_count": 12,
   "metadata": {},
   "outputs": [],
   "source": [
    "model_definition_1_metadata = {\n",
    "            client.repository.DefinitionMetaNames.NAME: \"t2-flowers-test2\",\n",
    "            client.repository.DefinitionMetaNames.FRAMEWORK_NAME: \"tensorflow\",\n",
    "            client.repository.DefinitionMetaNames.FRAMEWORK_VERSION: \"1.5\",\n",
    "            client.repository.DefinitionMetaNames.RUNTIME_NAME: \"python\",\n",
    "            client.repository.DefinitionMetaNames.RUNTIME_VERSION: \"3.5\",\n",
    "            client.repository.DefinitionMetaNames.EXECUTION_COMMAND: \"python3 wml_train.py\"\n",
    "            }"
   ]
  },
  {
   "cell_type": "markdown",
   "metadata": {},
   "source": [
    "#### Publish training definitions in Watson Machine Learning repository"
   ]
  },
  {
   "cell_type": "markdown",
   "metadata": {},
   "source": [
    "##### Store definition 1"
   ]
  },
  {
   "cell_type": "code",
   "execution_count": 15,
   "metadata": {},
   "outputs": [
    {
     "name": "stderr",
     "output_type": "stream",
     "text": [
      "2018-08-25 04:48:25,876 - watson_machine_learning_client.metanames - WARNING - 'AUTHOR_EMAIL' meta prop is deprecated. It will be ignored.\n"
     ]
    },
    {
     "name": "stdout",
     "output_type": "stream",
     "text": [
      "https://us-south.ml.cloud.ibm.com/v3/ml_assets/training_definitions/13cf79cb-57b5-47e9-93fe-9c8d80624508\n"
     ]
    }
   ],
   "source": [
    "definition_1_details = client.repository.store_definition(training_filename, model_definition_1_metadata)\n",
    "\n",
    "definition_1_url = client.repository.get_definition_url(definition_1_details)\n",
    "definition_1_uid = client.repository.get_definition_uid(definition_1_details)\n",
    "print(definition_1_url)"
   ]
  },
  {
   "cell_type": "markdown",
   "metadata": {},
   "source": [
    "#### LIST stored definitions"
   ]
  },
  {
   "cell_type": "code",
   "execution_count": 16,
   "metadata": {
    "scrolled": true
   },
   "outputs": [
    {
     "name": "stdout",
     "output_type": "stream",
     "text": [
      "------------------------------------  ---------------------  ------------------------  ----------\n",
      "GUID                                  NAME                   CREATED                   FRAMEWORK\n",
      "13cf79cb-57b5-47e9-93fe-9c8d80624508  t2-flowers-test2       2018-08-24T23:18:27.784Z  tensorflow\n",
      "0841ab83-7446-4236-8126-440949fc62f6  tl-flowers-test1       2018-08-24T14:15:10.985Z  tensorflow\n",
      "99cfd064-2dcd-4bdd-81bc-3c3a62891e2b  keras_mnist_train_def  2018-03-14T15:18:33.901Z  tensorflow\n",
      "f89e8ec5-316b-401c-ba32-8677615ea533  experiment1            2017-12-11T07:16:56.772Z  tensorflow\n",
      "------------------------------------  ---------------------  ------------------------  ----------\n"
     ]
    }
   ],
   "source": [
    "client.repository.list_definitions()"
   ]
  },
  {
   "cell_type": "markdown",
   "metadata": {},
   "source": [
    "<a id=\"experiment\"></a>\n",
    "## 3. Experiment definition"
   ]
  },
  {
   "cell_type": "markdown",
   "metadata": {},
   "source": [
    "### 3.1 Save experiment"
   ]
  },
  {
   "cell_type": "markdown",
   "metadata": {},
   "source": [
    "#### Get the list of supported configuration params"
   ]
  },
  {
   "cell_type": "code",
   "execution_count": 17,
   "metadata": {},
   "outputs": [
    {
     "name": "stdout",
     "output_type": "stream",
     "text": [
      "--------------------------  ----  --------\n",
      "META_PROP NAME              TYPE  REQUIRED\n",
      "NAME                        str   Y\n",
      "DESCRIPTION                 str   N\n",
      "TAGS                        list  N\n",
      "AUTHOR_NAME                 str   N\n",
      "EVALUATION_METHOD           str   N\n",
      "EVALUATION_METRICS          list  N\n",
      "TRAINING_REFERENCES         list  Y\n",
      "TRAINING_DATA_REFERENCE     dict  Y\n",
      "TRAINING_RESULTS_REFERENCE  dict  Y\n",
      "--------------------------  ----  --------\n"
     ]
    }
   ],
   "source": [
    "client.repository.ExperimentMetaNames.show()"
   ]
  },
  {
   "cell_type": "markdown",
   "metadata": {},
   "source": [
    "#### Experiment configuration dictionary\n",
    "Create experiment that will train models based on previously stored definitions."
   ]
  },
  {
   "cell_type": "markdown",
   "metadata": {},
   "source": [
    "`TRAINING_DATA_REFERENCE` - location of traininng data"
   ]
  },
  {
   "cell_type": "code",
   "execution_count": 18,
   "metadata": {},
   "outputs": [],
   "source": [
    "TRAINING_DATA_REFERENCE = {\n",
    "                            \"connection\": {\n",
    "                                \"endpoint_url\": service_endpoint,\n",
    "                                \"access_key_id\": cos_credentials['cos_hmac_keys']['access_key_id'],\n",
    "                                \"secret_access_key\": cos_credentials['cos_hmac_keys']['secret_access_key']\n",
    "                            },\n",
    "                            \"source\": {\n",
    "                                \"bucket\": buckets[0],\n",
    "                            },\n",
    "                            \"type\": \"s3\"\n",
    "}"
   ]
  },
  {
   "cell_type": "markdown",
   "metadata": {},
   "source": [
    "`TRAINING_RESULTS_REFERENCE` - location of training results"
   ]
  },
  {
   "cell_type": "code",
   "execution_count": 19,
   "metadata": {},
   "outputs": [],
   "source": [
    "TRAINING_RESULTS_REFERENCE = {\n",
    "                                \"connection\": {\n",
    "                                    \"endpoint_url\": service_endpoint,\n",
    "                                    \"access_key_id\": cos_credentials['cos_hmac_keys']['access_key_id'],\n",
    "                                    \"secret_access_key\": cos_credentials['cos_hmac_keys']['secret_access_key']\n",
    "                                },\n",
    "                                \"target\": {\n",
    "                                    \"bucket\": buckets[1],\n",
    "                                },\n",
    "                                \"type\": \"s3\"\n",
    "}"
   ]
  },
  {
   "cell_type": "markdown",
   "metadata": {},
   "source": [
    "Configure your experiment. `TRAINING_REFERENCES` links previously stored training definitions and provides information about `compute_configuration` that will be used to run the training."
   ]
  },
  {
   "cell_type": "code",
   "execution_count": 60,
   "metadata": {},
   "outputs": [],
   "source": [
    "experiment_metadata = {\n",
    "            client.repository.ExperimentMetaNames.NAME: \"Flw-trn1\",\n",
    "            client.repository.ExperimentMetaNames.DESCRIPTION: \"Flw-trn1\",\n",
    "            client.repository.ExperimentMetaNames.AUTHOR_EMAIL: \"k@ibm.com\",\n",
    "            client.repository.ExperimentMetaNames.EVALUATION_METHOD: \"multiclass\",\n",
    "            client.repository.ExperimentMetaNames.EVALUATION_METRICS: [\"val_acc\"],            \n",
    "            client.repository.ExperimentMetaNames.TRAINING_DATA_REFERENCE: TRAINING_DATA_REFERENCE,\n",
    "            client.repository.ExperimentMetaNames.TRAINING_RESULTS_REFERENCE: TRAINING_RESULTS_REFERENCE,\n",
    "            client.repository.ExperimentMetaNames.TRAINING_REFERENCES: [\n",
    "                        {\n",
    "                            \"name\": \"flower-train-test\",\n",
    "                            \"training_definition_url\": definition_1_url,\n",
    "                            \"compute_configuration\": {\"name\": \"k80x2\"}\n",
    "                            \n",
    "                        }\n",
    "                      ]\n",
    "            }"
   ]
  },
  {
   "cell_type": "markdown",
   "metadata": {},
   "source": [
    "#### Store experiment in Watson Machine Learning repository"
   ]
  },
  {
   "cell_type": "code",
   "execution_count": 61,
   "metadata": {},
   "outputs": [
    {
     "name": "stderr",
     "output_type": "stream",
     "text": [
      "2018-08-25 05:27:15,874 - watson_machine_learning_client.metanames - WARNING - 'AUTHOR_EMAIL' meta prop is deprecated. It will be ignored.\n"
     ]
    },
    {
     "name": "stdout",
     "output_type": "stream",
     "text": [
      "Experiment UID: ee9ad853-a52d-4ee7-8508-4600493a3906\n"
     ]
    }
   ],
   "source": [
    "experiment_details = client.repository.store_experiment(meta_props=experiment_metadata)\n",
    "\n",
    "experiment_uid = client.repository.get_experiment_uid(experiment_details)\n",
    "print(\"Experiment UID: \"+ experiment_uid)"
   ]
  },
  {
   "cell_type": "markdown",
   "metadata": {},
   "source": [
    "#### LIST stored experiments"
   ]
  },
  {
   "cell_type": "code",
   "execution_count": 62,
   "metadata": {},
   "outputs": [
    {
     "name": "stdout",
     "output_type": "stream",
     "text": [
      "------------------------------------  -----------  ------------------------\n",
      "GUID                                  NAME         CREATED\n",
      "ee9ad853-a52d-4ee7-8508-4600493a3906  Flw-trn1     2018-08-24T23:57:18.415Z\n",
      "50017ab0-237c-451b-befe-ef435c1b5d86  Flw-trn1     2018-08-24T23:46:22.501Z\n",
      "b69dae4f-4cb6-4526-b6ea-aecdaefca3bb  Flw-trn1     2018-08-24T15:37:57.114Z\n",
      "1864497e-cf89-4922-86b7-37c5517a1d18  Keras_mnist  2018-03-14T15:19:16.152Z\n",
      "------------------------------------  -----------  ------------------------\n"
     ]
    }
   ],
   "source": [
    "client.repository.list_experiments()"
   ]
  },
  {
   "cell_type": "markdown",
   "metadata": {},
   "source": [
    "**Hint:** You can update experiment definition by calling below method."
   ]
  },
  {
   "cell_type": "raw",
   "metadata": {},
   "source": [
    "updated_experiment_details = client.repository.update_experiment(experiment_uid, experiment_metadata)"
   ]
  },
  {
   "cell_type": "markdown",
   "metadata": {},
   "source": [
    "#### GET experiment definition details"
   ]
  },
  {
   "cell_type": "code",
   "execution_count": 48,
   "metadata": {},
   "outputs": [],
   "source": [
    "details = client.repository.get_experiment_details(experiment_uid)"
   ]
  },
  {
   "cell_type": "markdown",
   "metadata": {},
   "source": [
    "#### Delete experiment definition from repository"
   ]
  },
  {
   "cell_type": "raw",
   "metadata": {},
   "source": [
    "# client.repository.delete(experiment_uid)\n",
    "client.repository.delete('50017ab0-237c-451b-befe-ef435c1b5d86')"
   ]
  },
  {
   "cell_type": "markdown",
   "metadata": {},
   "source": [
    "<a id=\"run\"></a>\n",
    "## 4. Run experiment"
   ]
  },
  {
   "cell_type": "markdown",
   "metadata": {},
   "source": [
    "### 4.1 Running experiments"
   ]
  },
  {
   "cell_type": "code",
   "execution_count": 64,
   "metadata": {
    "scrolled": true
   },
   "outputs": [],
   "source": [
    "experiment_run_details = client.experiments.run(experiment_uid, asynchronous=True)"
   ]
  },
  {
   "cell_type": "markdown",
   "metadata": {},
   "source": [
    "As we can see experiment run has been triggered."
   ]
  },
  {
   "cell_type": "markdown",
   "metadata": {},
   "source": [
    "#### LIST experiment runs\n",
    "You can list experiment run using `client.experiments.list_runs()` method."
   ]
  },
  {
   "cell_type": "code",
   "execution_count": 65,
   "metadata": {},
   "outputs": [
    {
     "name": "stdout",
     "output_type": "stream",
     "text": [
      "------------------------------------  ------------------------------------  -----------------  ---------  --------------------\n",
      "GUID (experiment)                     GUID (run)                            NAME (experiment)  STATE      CREATED\n",
      "ee9ad853-a52d-4ee7-8508-4600493a3906  bab33340-1042-4bcd-a5d6-659a527f6368  Flw-trn1           pending    2018-08-24T23:59:03Z\n",
      "b69dae4f-4cb6-4526-b6ea-aecdaefca3bb  79f539a5-0c03-41d6-b8f0-e8e254e7c87f  Flw-trn1           completed  2018-08-24T15:39:53Z\n",
      "------------------------------------  ------------------------------------  -----------------  ---------  --------------------\n"
     ]
    }
   ],
   "source": [
    "client.experiments.list_runs()"
   ]
  },
  {
   "cell_type": "markdown",
   "metadata": {},
   "source": [
    "#### GET experiment run UID"
   ]
  },
  {
   "cell_type": "code",
   "execution_count": 66,
   "metadata": {},
   "outputs": [
    {
     "name": "stdout",
     "output_type": "stream",
     "text": [
      "bab33340-1042-4bcd-a5d6-659a527f6368\n"
     ]
    }
   ],
   "source": [
    "experiment_run_uid = client.experiments.get_run_uid(experiment_run_details)\n",
    "print(experiment_run_uid)"
   ]
  },
  {
   "cell_type": "markdown",
   "metadata": {},
   "source": [
    "#### LIST training runs triggered by experiment run"
   ]
  },
  {
   "cell_type": "markdown",
   "metadata": {},
   "source": [
    "**Hint:** Please run the cell below several times durign the run to see updates."
   ]
  },
  {
   "cell_type": "code",
   "execution_count": 70,
   "metadata": {},
   "outputs": [
    {
     "name": "stdout",
     "output_type": "stream",
     "text": [
      "------------------  -----------------  ---------  --------------------  --------------------  --------------------\n",
      "GUID (training)     NAME               STATE      SUBMITTED             FINISHED              PERFORMANCE\n",
      "training-Hldv3wtig  flower-train-test  completed  2018-08-24T23:59:05Z  2018-08-25T00:02:03Z  test:acc=0.5437\n",
      "                                                                                              test:loss=0.7343\n",
      "                                                                                              test:val_acc=0.7500\n",
      "                                                                                              test:val_loss=0.5210\n",
      "------------------  -----------------  ---------  --------------------  --------------------  --------------------\n"
     ]
    }
   ],
   "source": [
    "client.experiments.list_training_runs(experiment_run_uid)"
   ]
  },
  {
   "cell_type": "markdown",
   "metadata": {},
   "source": [
    "#### GET run details\n",
    "Use below method to get particular experiment run details."
   ]
  },
  {
   "cell_type": "code",
   "execution_count": 71,
   "metadata": {},
   "outputs": [],
   "source": [
    "experiment_run_details = client.experiments.get_run_details(experiment_run_uid)"
   ]
  },
  {
   "cell_type": "code",
   "execution_count": 72,
   "metadata": {},
   "outputs": [
    {
     "data": {
      "text/plain": [
       "{'metadata': {'guid': 'bab33340-1042-4bcd-a5d6-659a527f6368',\n",
       "  'url': '/v3/experiments/ee9ad853-a52d-4ee7-8508-4600493a3906/runs/bab33340-1042-4bcd-a5d6-659a527f6368',\n",
       "  'created_at': '2018-08-24T23:59:03Z',\n",
       "  'modified_at': '2018-08-24T23:59:03Z'},\n",
       " 'entity': {'experiment_run_status': {'best_results': {'experiment_best_model': {'training_guid': 'training-Hldv3wtig',\n",
       "     'training_url': 'https://us-south.ml.cloud.ibm.com/v3/ml_assets/training_definitions/13cf79cb-57b5-47e9-93fe-9c8d80624508',\n",
       "     'training_reference_name': 'flower-train-test'},\n",
       "    'training_reference_best_model': [{'training_guid': 'training-Hldv3wtig',\n",
       "      'training_url': 'https://us-south.ml.cloud.ibm.com/v3/ml_assets/training_definitions/13cf79cb-57b5-47e9-93fe-9c8d80624508',\n",
       "      'training_reference_name': 'flower-train-test'}]},\n",
       "   'state': 'completed',\n",
       "   'submitted_at': '2018-08-24T23:59:04Z',\n",
       "   'current_iteration': 1,\n",
       "   'current_at': '2018-08-24T23:59:04Z'},\n",
       "  'training_statuses': [{'training_guid': 'training-Hldv3wtig',\n",
       "    'training_definition_url': 'https://us-south.ml.cloud.ibm.com/v3/ml_assets/training_definitions/13cf79cb-57b5-47e9-93fe-9c8d80624508',\n",
       "    'training_url': '/v3/models/training-Hldv3wtig',\n",
       "    'state': 'completed',\n",
       "    'finished_at': '2018-08-25T00:02:03Z',\n",
       "    'submitted_at': '2018-08-24T23:59:05Z',\n",
       "    'running_at': '2018-08-25T00:00:12Z',\n",
       "    'results': {'reference': {'type': 's3',\n",
       "      'connection': {'endpoint_url': 'https://s3.us-south.objectstorage.softlayer.net',\n",
       "       'access_key_id': '17846d2e0fb64f85bfc42a9811b96a76',\n",
       "       'secret_access_key': '870a081f8a06a70f261e76267e65f7ee208988903d90879e'},\n",
       "      'location': {'bucket': 'transfer-learning-test1-results',\n",
       "       'file_name': 'training-Hldv3wtig'}}},\n",
       "    'metrics': [{'phase': 'test',\n",
       "      'values': [{'name': 'acc', 'value': 0.53125},\n",
       "       {'name': 'loss', 'value': 0.7791590094566345},\n",
       "       {'name': 'val_acc', 'value': 0.625},\n",
       "       {'name': 'val_loss', 'value': 0.6408689022064209}],\n",
       "      'timestamp': '2018-08-25T00:00:38Z',\n",
       "      'iteration': 0},\n",
       "     {'phase': 'test',\n",
       "      'values': [{'name': 'acc', 'value': 0.543749988079071},\n",
       "       {'name': 'loss', 'value': 0.7342740297317505},\n",
       "       {'name': 'val_acc', 'value': 0.75},\n",
       "       {'name': 'val_loss', 'value': 0.5210309028625488}],\n",
       "      'timestamp': '2018-08-25T00:00:45Z',\n",
       "      'iteration': 1}],\n",
       "    'current_at': '2018-08-25T00:02:18Z',\n",
       "    'training_reference_name': 'flower-train-test'}]},\n",
       " 'experiment': {'guid': 'ee9ad853-a52d-4ee7-8508-4600493a3906',\n",
       "  'url': '/v3/experiments/ee9ad853-a52d-4ee7-8508-4600493a3906',\n",
       "  'evaluation_definition': {'method': 'multiclass',\n",
       "   'metrics': [{'name': 'val_acc'}]}}}"
      ]
     },
     "execution_count": 72,
     "metadata": {},
     "output_type": "execute_result"
    }
   ],
   "source": [
    "experiment_run_details"
   ]
  },
  {
   "cell_type": "markdown",
   "metadata": {},
   "source": [
    "#### GET experiment run status\n",
    "You can check experiment run status by calling `client.experiments.get_status(run_uid)` method. This is quite useful when running experiment in background."
   ]
  },
  {
   "cell_type": "code",
   "execution_count": 73,
   "metadata": {},
   "outputs": [
    {
     "data": {
      "text/plain": [
       "{'best_results': {'experiment_best_model': {'training_guid': 'training-Hldv3wtig',\n",
       "   'training_url': 'https://us-south.ml.cloud.ibm.com/v3/ml_assets/training_definitions/13cf79cb-57b5-47e9-93fe-9c8d80624508',\n",
       "   'training_reference_name': 'flower-train-test'},\n",
       "  'training_reference_best_model': [{'training_guid': 'training-Hldv3wtig',\n",
       "    'training_url': 'https://us-south.ml.cloud.ibm.com/v3/ml_assets/training_definitions/13cf79cb-57b5-47e9-93fe-9c8d80624508',\n",
       "    'training_reference_name': 'flower-train-test'}]},\n",
       " 'state': 'completed',\n",
       " 'submitted_at': '2018-08-24T23:59:04Z',\n",
       " 'current_iteration': 1,\n",
       " 'current_at': '2018-08-24T23:59:04Z'}"
      ]
     },
     "execution_count": 73,
     "metadata": {},
     "output_type": "execute_result"
    }
   ],
   "source": [
    "client.experiments.get_status(experiment_run_uid)"
   ]
  },
  {
   "cell_type": "markdown",
   "metadata": {},
   "source": [
    "#### GET experiment details\n",
    "Use below method to get all information about particular experiment."
   ]
  },
  {
   "cell_type": "code",
   "execution_count": 33,
   "metadata": {},
   "outputs": [],
   "source": [
    "experiment_details = client.experiments.get_details(experiment_uid)"
   ]
  },
  {
   "cell_type": "markdown",
   "metadata": {},
   "source": [
    "You can use below print method to display experiment details (change cell type to code)."
   ]
  },
  {
   "cell_type": "code",
   "execution_count": 34,
   "metadata": {},
   "outputs": [
    {
     "name": "stdout",
     "output_type": "stream",
     "text": [
      "{\n",
      "  \"resources\": [\n",
      "    {\n",
      "      \"metadata\": {\n",
      "        \"guid\": \"4c258054-9e11-446e-919a-a70ccc3b126c\",\n",
      "        \"url\": \"/v3/experiments/fe96afca-f26c-4578-a747-c9d29090b835/runs/4c258054-9e11-446e-919a-a70ccc3b126c\",\n",
      "        \"created_at\": \"2018-08-24T23:29:40Z\",\n",
      "        \"modified_at\": \"2018-08-24T23:29:40Z\"\n",
      "      },\n",
      "      \"entity\": {\n",
      "        \"experiment_run_status\": {\n",
      "          \"submitted_at\": \"2018-08-24T23:29:41Z\",\n",
      "          \"current_at\": \"2018-08-24T23:29:41Z\",\n",
      "          \"current_iteration\": 1,\n",
      "          \"state\": \"error\"\n",
      "        },\n",
      "        \"training_statuses\": [\n",
      "          {\n",
      "            \"training_guid\": \"training-HHJ-9QtiR\",\n",
      "            \"training_definition_url\": \"https://us-south.ml.cloud.ibm.com/v3/ml_assets/training_definitions/13cf79cb-57b5-47e9-93fe-9c8d80624508\",\n",
      "            \"training_url\": \"/v3/models/training-HHJ-9QtiR\",\n",
      "            \"state\": \"error\",\n",
      "            \"role\": \"hpo\",\n",
      "            \"finished_at\": \"2018-08-24T23:33:00Z\",\n",
      "            \"submitted_at\": \"2018-08-24T23:29:43Z\",\n",
      "            \"running_at\": \"2018-08-24T23:30:04Z\",\n",
      "            \"results\": {\n",
      "              \"reference\": {\n",
      "                \"type\": \"s3\",\n",
      "                \"connection\": {\n",
      "                  \"endpoint_url\": \"https://s3.us-south.objectstorage.softlayer.net\",\n",
      "                  \"access_key_id\": \"17846d2e0fb64f85bfc42a9811b96a76\",\n",
      "                  \"secret_access_key\": \"870a081f8a06a70f261e76267e65f7ee208988903d90879e\"\n",
      "                },\n",
      "                \"location\": {\n",
      "                  \"bucket\": \"transfer-learning-test1-results\",\n",
      "                  \"file_name\": \"training-HHJ-9QtiR\"\n",
      "                }\n",
      "              }\n",
      "            },\n",
      "            \"error\": {\n",
      "              \"trace\": \"832505791\",\n",
      "              \"errors\": [\n",
      "                {\n",
      "                  \"code\": \"dl_job_failed (C201)\",\n",
      "                  \"message\": \"Learner process crashed (C201) with exit code (1), please check the job logs for more information\",\n",
      "                  \"more_info\": \"http://watson-ml-api.mybluemix.net/\"\n",
      "                }\n",
      "              ]\n",
      "            },\n",
      "            \"message\": \"1\",\n",
      "            \"metrics\": [\n",
      "              {\n",
      "                \"phase\": \"test\",\n",
      "                \"values\": [\n",
      "                  {\n",
      "                    \"name\": \"loss\",\n",
      "                    \"value\": 0.7328252792358398\n",
      "                  },\n",
      "                  {\n",
      "                    \"name\": \"val_acc\",\n",
      "                    \"value\": 0.5750000476837158\n",
      "                  },\n",
      "                  {\n",
      "                    \"name\": \"val_loss\",\n",
      "                    \"value\": 0.646700382232666\n",
      "                  },\n",
      "                  {\n",
      "                    \"name\": \"acc\",\n",
      "                    \"value\": 0.581250011920929\n",
      "                  }\n",
      "                ],\n",
      "                \"timestamp\": \"2018-08-24T23:30:58Z\",\n",
      "                \"iteration\": 0\n",
      "              },\n",
      "              {\n",
      "                \"phase\": \"test\",\n",
      "                \"values\": [\n",
      "                  {\n",
      "                    \"name\": \"acc\",\n",
      "                    \"value\": 0.6000000238418579\n",
      "                  },\n",
      "                  {\n",
      "                    \"name\": \"loss\",\n",
      "                    \"value\": 0.6999816298484802\n",
      "                  },\n",
      "                  {\n",
      "                    \"name\": \"val_acc\",\n",
      "                    \"value\": 0.7250000238418579\n",
      "                  },\n",
      "                  {\n",
      "                    \"name\": \"val_loss\",\n",
      "                    \"value\": 0.509676992893219\n",
      "                  }\n",
      "                ],\n",
      "                \"timestamp\": \"2018-08-24T23:31:06Z\",\n",
      "                \"iteration\": 1\n",
      "              }\n",
      "            ],\n",
      "            \"current_at\": \"2018-08-24T23:33:48Z\",\n",
      "            \"training_reference_name\": \"flower-train-test\"\n",
      "          },\n",
      "          {\n",
      "            \"training_guid\": \"training-HHJ-9QtiR_0\",\n",
      "            \"training_definition_url\": \"https://us-south.ml.cloud.ibm.com/v3/ml_assets/training_definitions/13cf79cb-57b5-47e9-93fe-9c8d80624508\",\n",
      "            \"training_url\": \"/v3/models/training-HHJ-9QtiR_0\",\n",
      "            \"state\": \"error\",\n",
      "            \"submitted_at\": \"2018-08-24T23:30:30Z\",\n",
      "            \"running_at\": \"2018-08-24T23:30:30Z\",\n",
      "            \"hyper_parameters\": [\n",
      "              {\n",
      "                \"name\": \"learning_rate\",\n",
      "                \"double_value\": 0.0002\n",
      "              }\n",
      "            ],\n",
      "            \"results\": {\n",
      "              \"reference\": {\n",
      "                \"type\": \"s3\",\n",
      "                \"connection\": {\n",
      "                  \"endpoint_url\": \"https://s3.us-south.objectstorage.softlayer.net\",\n",
      "                  \"access_key_id\": \"17846d2e0fb64f85bfc42a9811b96a76\",\n",
      "                  \"secret_access_key\": \"870a081f8a06a70f261e76267e65f7ee208988903d90879e\"\n",
      "                },\n",
      "                \"location\": {\n",
      "                  \"bucket\": \"transfer-learning-test1-results\",\n",
      "                  \"file_name\": \"training-HHJ-9QtiR/learner-1/0\"\n",
      "                }\n",
      "              }\n",
      "            },\n",
      "            \"error\": {\n",
      "              \"trace\": \"832505791\",\n",
      "              \"errors\": [\n",
      "                {\n",
      "                  \"code\": \"dl_job_failed (C201)\",\n",
      "                  \"message\": \"Learner process crashed (C201) with exit code (1), please check the job logs for more information\",\n",
      "                  \"more_info\": \"http://watson-ml-api.mybluemix.net/\"\n",
      "                }\n",
      "              ]\n",
      "            },\n",
      "            \"parent_training_guid\": \"training-HHJ-9QtiR\",\n",
      "            \"metrics\": [],\n",
      "            \"current_at\": \"2018-08-24T23:30:35Z\",\n",
      "            \"training_reference_name\": \"flower-train-test\"\n",
      "          }\n",
      "        ]\n",
      "      },\n",
      "      \"experiment\": {\n",
      "        \"guid\": \"fe96afca-f26c-4578-a747-c9d29090b835\",\n",
      "        \"url\": \"/v3/experiments/fe96afca-f26c-4578-a747-c9d29090b835\",\n",
      "        \"evaluation_definition\": {\n",
      "          \"method\": \"multiclass\",\n",
      "          \"metrics\": [\n",
      "            {\n",
      "              \"name\": \"val_acc\"\n",
      "            }\n",
      "          ]\n",
      "        }\n",
      "      }\n",
      "    }\n",
      "  ]\n",
      "}\n"
     ]
    }
   ],
   "source": [
    "print(json.dumps(experiment_details, indent=2))"
   ]
  },
  {
   "cell_type": "markdown",
   "metadata": {},
   "source": [
    "#### GET training runs uids"
   ]
  },
  {
   "cell_type": "code",
   "execution_count": 74,
   "metadata": {},
   "outputs": [
    {
     "name": "stdout",
     "output_type": "stream",
     "text": [
      "training-Hldv3wtig\n"
     ]
    }
   ],
   "source": [
    "experiment_run_details = client.experiments.get_run_details(experiment_run_uid)\n",
    "training_run_uids = client.experiments.get_training_uids(experiment_run_details)\n",
    "\n",
    "for i in training_run_uids:\n",
    "    print(i)"
   ]
  },
  {
   "cell_type": "markdown",
   "metadata": {},
   "source": [
    "#### Delete experiment-run"
   ]
  },
  {
   "cell_type": "markdown",
   "metadata": {},
   "source": [
    "You can delete experiment runs and results by running below method."
   ]
  },
  {
   "cell_type": "markdown",
   "metadata": {},
   "source": [
    "**Tip:** the `delete` method can be also used to terminate experiment run"
   ]
  },
  {
   "cell_type": "raw",
   "metadata": {},
   "source": [
    "client.experiments.delete(experiment_run_uid)"
   ]
  },
  {
   "cell_type": "markdown",
   "metadata": {},
   "source": [
    "### 4.2 Monitoring experiment"
   ]
  },
  {
   "cell_type": "markdown",
   "metadata": {},
   "source": [
    "#### MONITOR experiment run\n",
    "You can monitor experiment run by calling `client.experiments.monitor_logs(run_uid)`. This method will stream training logs content to console."
   ]
  },
  {
   "cell_type": "markdown",
   "metadata": {},
   "source": [
    "**Tip:** You can also monitor particular training run by calling `client.training.monitor_logs(training_run_uid)`.\n",
    "To get training_run_uid you can call method `client.experiments.list_training_runs(experiment_run_uid)`"
   ]
  },
  {
   "cell_type": "code",
   "execution_count": null,
   "metadata": {},
   "outputs": [],
   "source": [
    "client.experiments.monitor_logs(experiment_run_uid)"
   ]
  },
  {
   "cell_type": "markdown",
   "metadata": {},
   "source": [
    "**Note:** Before going to next section make sure that your experiment run has completed."
   ]
  },
  {
   "cell_type": "code",
   "execution_count": 75,
   "metadata": {},
   "outputs": [
    {
     "data": {
      "text/plain": [
       "'completed'"
      ]
     },
     "execution_count": 75,
     "metadata": {},
     "output_type": "execute_result"
    }
   ],
   "source": [
    "client.experiments.get_status(experiment_run_uid)['state']"
   ]
  },
  {
   "cell_type": "markdown",
   "metadata": {},
   "source": [
    "### 4.3 Quality metrics"
   ]
  },
  {
   "cell_type": "markdown",
   "metadata": {},
   "source": [
    "#### Accessing metrics data"
   ]
  },
  {
   "cell_type": "markdown",
   "metadata": {},
   "source": [
    "You can get final evaluation metrics by running below cell."
   ]
  },
  {
   "cell_type": "code",
   "execution_count": 76,
   "metadata": {},
   "outputs": [],
   "source": [
    "metrics = client.experiments.get_latest_metrics(experiment_run_uid)"
   ]
  },
  {
   "cell_type": "markdown",
   "metadata": {},
   "source": [
    "You can get all evaluation metrics by running below code."
   ]
  },
  {
   "cell_type": "code",
   "execution_count": 77,
   "metadata": {},
   "outputs": [],
   "source": [
    "all_metrics = client.experiments.get_metrics(experiment_run_uid)"
   ]
  },
  {
   "cell_type": "markdown",
   "metadata": {},
   "source": [
    "#### Visualize training results using plotly."
   ]
  },
  {
   "cell_type": "raw",
   "metadata": {},
   "source": [
    "!pip install cufflinks"
   ]
  },
  {
   "cell_type": "code",
   "execution_count": 79,
   "metadata": {},
   "outputs": [
    {
     "name": "stderr",
     "output_type": "stream",
     "text": [
      "/usr/local/lib/python3.6/site-packages/plotly/graph_objs/_deprecations.py:558: DeprecationWarning:\n",
      "\n",
      "plotly.graph_objs.YAxis is deprecated.\n",
      "Please replace it with one of the following more specific types\n",
      "  - plotly.graph_objs.layout.YAxis\n",
      "  - plotly.graph_objs.layout.scene.YAxis\n",
      "\n",
      "\n",
      "/usr/local/lib/python3.6/site-packages/plotly/graph_objs/_deprecations.py:531: DeprecationWarning:\n",
      "\n",
      "plotly.graph_objs.XAxis is deprecated.\n",
      "Please replace it with one of the following more specific types\n",
      "  - plotly.graph_objs.layout.XAxis\n",
      "  - plotly.graph_objs.layout.scene.XAxis\n",
      "\n",
      "\n"
     ]
    },
    {
     "data": {
      "text/html": [
       "<script>requirejs.config({paths: { 'plotly': ['https://cdn.plot.ly/plotly-latest.min']},});if(!window.Plotly) {{require(['plotly'],function(plotly) {window.Plotly=plotly;});}}</script>"
      ],
      "text/vnd.plotly.v1+html": [
       "<script>requirejs.config({paths: { 'plotly': ['https://cdn.plot.ly/plotly-latest.min']},});if(!window.Plotly) {{require(['plotly'],function(plotly) {window.Plotly=plotly;});}}</script>"
      ]
     },
     "metadata": {},
     "output_type": "display_data"
    }
   ],
   "source": [
    "import sys\n",
    "import pandas\n",
    "import plotly.plotly as py\n",
    "from plotly.offline import download_plotlyjs, init_notebook_mode, plot, iplot\n",
    "import cufflinks as cf\n",
    "import plotly.graph_objs as go\n",
    "\n",
    "init_notebook_mode(connected=True)\n",
    "sys.path.append(\"\".join([os.environ[\"HOME\"]])) "
   ]
  },
  {
   "cell_type": "markdown",
   "metadata": {},
   "source": [
    "Let's put our final metrics data into pandas dataframe."
   ]
  },
  {
   "cell_type": "code",
   "execution_count": 80,
   "metadata": {},
   "outputs": [
    {
     "data": {
      "text/html": [
       "<div>\n",
       "<style scoped>\n",
       "    .dataframe tbody tr th:only-of-type {\n",
       "        vertical-align: middle;\n",
       "    }\n",
       "\n",
       "    .dataframe tbody tr th {\n",
       "        vertical-align: top;\n",
       "    }\n",
       "\n",
       "    .dataframe thead th {\n",
       "        text-align: right;\n",
       "    }\n",
       "</style>\n",
       "<table border=\"1\" class=\"dataframe\">\n",
       "  <thead>\n",
       "    <tr style=\"text-align: right;\">\n",
       "      <th></th>\n",
       "      <th>GUID</th>\n",
       "      <th>NAME</th>\n",
       "      <th>METRIC NAME</th>\n",
       "      <th>METRIC VALUE</th>\n",
       "    </tr>\n",
       "  </thead>\n",
       "  <tbody>\n",
       "    <tr>\n",
       "      <th>0</th>\n",
       "      <td>training-Hldv3wtig</td>\n",
       "      <td>flower-train-test</td>\n",
       "      <td>acc</td>\n",
       "      <td>0.543750</td>\n",
       "    </tr>\n",
       "    <tr>\n",
       "      <th>1</th>\n",
       "      <td>training-Hldv3wtig</td>\n",
       "      <td>flower-train-test</td>\n",
       "      <td>loss</td>\n",
       "      <td>0.734274</td>\n",
       "    </tr>\n",
       "    <tr>\n",
       "      <th>2</th>\n",
       "      <td>training-Hldv3wtig</td>\n",
       "      <td>flower-train-test</td>\n",
       "      <td>val_acc</td>\n",
       "      <td>0.750000</td>\n",
       "    </tr>\n",
       "    <tr>\n",
       "      <th>3</th>\n",
       "      <td>training-Hldv3wtig</td>\n",
       "      <td>flower-train-test</td>\n",
       "      <td>val_loss</td>\n",
       "      <td>0.521031</td>\n",
       "    </tr>\n",
       "  </tbody>\n",
       "</table>\n",
       "</div>"
      ],
      "text/plain": [
       "                 GUID               NAME METRIC NAME  METRIC VALUE\n",
       "0  training-Hldv3wtig  flower-train-test         acc      0.543750\n",
       "1  training-Hldv3wtig  flower-train-test        loss      0.734274\n",
       "2  training-Hldv3wtig  flower-train-test     val_acc      0.750000\n",
       "3  training-Hldv3wtig  flower-train-test    val_loss      0.521031"
      ]
     },
     "execution_count": 80,
     "metadata": {},
     "output_type": "execute_result"
    }
   ],
   "source": [
    "import pandas as pd\n",
    "\n",
    "metrics_df = pd.DataFrame(columns=['GUID', 'NAME', 'METRIC NAME', 'METRIC VALUE'])\n",
    "\n",
    "for m in metrics:\n",
    "    for v in m['metrics']['values']:\n",
    "            metrics_df = metrics_df.append({'GUID': m['training_guid'], 'NAME': m['training_reference_name'], 'METRIC NAME': v['name'], 'METRIC VALUE': v['value']}, ignore_index=True)\n",
    "    \n",
    "metrics_df"
   ]
  },
  {
   "cell_type": "markdown",
   "metadata": {},
   "source": [
    "Visualize metrics data using grouped bar chart."
   ]
  },
  {
   "cell_type": "code",
   "execution_count": 81,
   "metadata": {},
   "outputs": [
    {
     "data": {
      "application/vnd.plotly.v1+json": {
       "data": [
        {
         "name": "acc",
         "type": "bar",
         "uid": "1547af98-a7fb-11e8-90c3-f45c89bf2fd7",
         "x": [
          "training-Hldv3wtig (flower-train-test)"
         ],
         "y": [
          0.543749988079071
         ]
        },
        {
         "name": "loss",
         "type": "bar",
         "uid": "154a60a8-a7fb-11e8-8879-f45c89bf2fd7",
         "x": [
          "training-Hldv3wtig (flower-train-test)"
         ],
         "y": [
          0.7342740297317505
         ]
        },
        {
         "name": "val_acc",
         "type": "bar",
         "uid": "154a63fa-a7fb-11e8-aa10-f45c89bf2fd7",
         "x": [
          "training-Hldv3wtig (flower-train-test)"
         ],
         "y": [
          0.75
         ]
        },
        {
         "name": "val_loss",
         "type": "bar",
         "uid": "154a65f8-a7fb-11e8-b54f-f45c89bf2fd7",
         "x": [
          "training-Hldv3wtig (flower-train-test)"
         ],
         "y": [
          0.5210309028625488
         ]
        }
       ],
       "layout": {
        "barmode": "group"
       }
      },
      "text/html": [
       "<div id=\"5dceb3e7-0988-4891-b70d-2ef13adb346d\" style=\"height: 525px; width: 100%;\" class=\"plotly-graph-div\"></div><script type=\"text/javascript\">require([\"plotly\"], function(Plotly) { window.PLOTLYENV=window.PLOTLYENV || {};window.PLOTLYENV.BASE_URL=\"https://plot.ly\";\n",
       "        Plotly.plot(\n",
       "            '5dceb3e7-0988-4891-b70d-2ef13adb346d',\n",
       "            [{\"name\": \"acc\", \"x\": [\"training-Hldv3wtig (flower-train-test)\"], \"y\": [0.543749988079071], \"type\": \"bar\", \"uid\": \"1547af98-a7fb-11e8-90c3-f45c89bf2fd7\"}, {\"name\": \"loss\", \"x\": [\"training-Hldv3wtig (flower-train-test)\"], \"y\": [0.7342740297317505], \"type\": \"bar\", \"uid\": \"154a60a8-a7fb-11e8-8879-f45c89bf2fd7\"}, {\"name\": \"val_acc\", \"x\": [\"training-Hldv3wtig (flower-train-test)\"], \"y\": [0.75], \"type\": \"bar\", \"uid\": \"154a63fa-a7fb-11e8-aa10-f45c89bf2fd7\"}, {\"name\": \"val_loss\", \"x\": [\"training-Hldv3wtig (flower-train-test)\"], \"y\": [0.5210309028625488], \"type\": \"bar\", \"uid\": \"154a65f8-a7fb-11e8-b54f-f45c89bf2fd7\"}],\n",
       "            {\"barmode\": \"group\"},\n",
       "            {\"showLink\": true, \"linkText\": \"Export to plot.ly\"}\n",
       "        ).then(function () {return Plotly.addFrames('5dceb3e7-0988-4891-b70d-2ef13adb346d',{});}).then(function(){Plotly.animate('5dceb3e7-0988-4891-b70d-2ef13adb346d');})\n",
       "        });</script>"
      ],
      "text/vnd.plotly.v1+html": [
       "<div id=\"5dceb3e7-0988-4891-b70d-2ef13adb346d\" style=\"height: 525px; width: 100%;\" class=\"plotly-graph-div\"></div><script type=\"text/javascript\">require([\"plotly\"], function(Plotly) { window.PLOTLYENV=window.PLOTLYENV || {};window.PLOTLYENV.BASE_URL=\"https://plot.ly\";\n",
       "        Plotly.plot(\n",
       "            '5dceb3e7-0988-4891-b70d-2ef13adb346d',\n",
       "            [{\"name\": \"acc\", \"x\": [\"training-Hldv3wtig (flower-train-test)\"], \"y\": [0.543749988079071], \"type\": \"bar\", \"uid\": \"1547af98-a7fb-11e8-90c3-f45c89bf2fd7\"}, {\"name\": \"loss\", \"x\": [\"training-Hldv3wtig (flower-train-test)\"], \"y\": [0.7342740297317505], \"type\": \"bar\", \"uid\": \"154a60a8-a7fb-11e8-8879-f45c89bf2fd7\"}, {\"name\": \"val_acc\", \"x\": [\"training-Hldv3wtig (flower-train-test)\"], \"y\": [0.75], \"type\": \"bar\", \"uid\": \"154a63fa-a7fb-11e8-aa10-f45c89bf2fd7\"}, {\"name\": \"val_loss\", \"x\": [\"training-Hldv3wtig (flower-train-test)\"], \"y\": [0.5210309028625488], \"type\": \"bar\", \"uid\": \"154a65f8-a7fb-11e8-b54f-f45c89bf2fd7\"}],\n",
       "            {\"barmode\": \"group\"},\n",
       "            {\"showLink\": true, \"linkText\": \"Export to plot.ly\"}\n",
       "        ).then(function () {return Plotly.addFrames('5dceb3e7-0988-4891-b70d-2ef13adb346d',{});}).then(function(){Plotly.animate('5dceb3e7-0988-4891-b70d-2ef13adb346d');})\n",
       "        });</script>"
      ]
     },
     "metadata": {},
     "output_type": "display_data"
    }
   ],
   "source": [
    "data = []\n",
    "\n",
    "for i in list(pd.unique(metrics_df['METRIC NAME'])):\n",
    "    data.append(go.Bar(x=metrics_df[metrics_df['METRIC NAME'].isin([i])]['GUID'] + ' (' + metrics_df[metrics_df['METRIC NAME'].isin([i])]['NAME'] + ')', y=metrics_df[metrics_df['METRIC NAME'].isin([i])]['METRIC VALUE'], name=i))\n",
    "\n",
    "\n",
    "layout = go.Layout(\n",
    "    barmode='group'\n",
    ")\n",
    "\n",
    "fig = go.Figure(data=data, layout=layout)\n",
    "\n",
    "iplot(fig)"
   ]
  },
  {
   "cell_type": "markdown",
   "metadata": {},
   "source": [
    "## 5. Create online deployment"
   ]
  },
  {
   "cell_type": "markdown",
   "metadata": {},
   "source": [
    "You can deployed stored model as webservice (online) by running below method."
   ]
  },
  {
   "cell_type": "markdown",
   "metadata": {},
   "source": [
    "### 5.1 Store trained model"
   ]
  },
  {
   "cell_type": "markdown",
   "metadata": {},
   "source": [
    "#### Call this method to save model in Watson Machine Learning repository"
   ]
  },
  {
   "cell_type": "code",
   "execution_count": 82,
   "metadata": {},
   "outputs": [
    {
     "name": "stdout",
     "output_type": "stream",
     "text": [
      "training-Hldv3wtig (flower-train-test)\n"
     ]
    }
   ],
   "source": [
    "status = client.experiments.get_status(experiment_run_uid)\n",
    "best_model_uid = status['best_results']['experiment_best_model']['training_guid']\n",
    "best_model_name = status['best_results']['experiment_best_model']['training_reference_name']\n",
    "\n",
    "print(best_model_uid + ' (' +  best_model_name  + ')')"
   ]
  },
  {
   "cell_type": "code",
   "execution_count": 83,
   "metadata": {},
   "outputs": [
    {
     "name": "stderr",
     "output_type": "stream",
     "text": [
      "2018-08-25 05:42:02,824 - watson_machine_learning_client.metanames - WARNING - 'AUTHOR_EMAIL' meta prop is deprecated. It will be ignored.\n"
     ]
    }
   ],
   "source": [
    "saved_model_details = client.repository.store_model(best_model_uid, {'name': 'k_flw-test2'})"
   ]
  },
  {
   "cell_type": "markdown",
   "metadata": {},
   "source": [
    "**Tip:** Run below code to extract stored model guid from dictionary."
   ]
  },
  {
   "cell_type": "code",
   "execution_count": 84,
   "metadata": {},
   "outputs": [
    {
     "name": "stdout",
     "output_type": "stream",
     "text": [
      "Saved model guid: afb2639c-953f-4204-bced-79b91dcaa188\n"
     ]
    }
   ],
   "source": [
    "model_guid = client.repository.get_model_uid(saved_model_details)\n",
    "print(\"Saved model guid: \" + model_guid)"
   ]
  },
  {
   "cell_type": "markdown",
   "metadata": {},
   "source": [
    "#### Call this method to list stored models"
   ]
  },
  {
   "cell_type": "code",
   "execution_count": 88,
   "metadata": {},
   "outputs": [
    {
     "name": "stdout",
     "output_type": "stream",
     "text": [
      "------------------------------------  ---------------------------------------  ------------------------  -----------------\n",
      "GUID                                  NAME                                     CREATED                   FRAMEWORK\n",
      "afb2639c-953f-4204-bced-79b91dcaa188  k_flw-test2                              2018-08-25T00:12:05.757Z  tensorflow-1.5\n",
      "833c5785-d18d-4c03-b8ac-950b95d7708d  k_flw-test1                              2018-08-24T15:46:28.320Z  tensorflow-1.5\n",
      "76e457f1-06a4-44bb-a052-e5022a77787c  k_tt_flower_vgg19_t1                     2018-08-23T16:01:34.662Z  tensorflow-1.5\n",
      "c6f7e229-48f7-4c33-bb39-3abb2c2f5331  cust_pyfunc_mnist                        2018-08-02T13:29:50.438Z  tensorflow-1.5\n",
      "f7b12b0c-f2d3-44eb-8fb3-e5b4f8f3bebc  cust norm linalg_norm gnfuv1             2018-08-02T13:10:33.606Z  scikit-learn-0.19\n",
      "dd0f9263-e210-44ed-b75d-5606f0cdee5f  cust norm linalg_norm gnfuv1             2018-07-26T14:21:21.689Z  scikit-learn-0.19\n",
      "0167affd-ee86-4ef5-9f0a-82f623f6910a  cust norm linalg_norm gnfuv1             2018-07-26T13:28:57.703Z  scikit-learn-0.19\n",
      "d477a9de-f49b-4541-9dec-ec729066b19c  k3_skl19_cust_linalg_gnfuv               2018-07-26T12:47:53.912Z  scikit-learn-0.19\n",
      "3b71b09f-9e07-4e99-995f-482097a355be  k3_skl19_cust_linalg_gnfuv               2018-07-25T13:29:25.279Z  scikit-learn-0.19\n",
      "3a49449e-3b9c-4d53-89bf-c0e9175e2b3f  KK3_clt_keras_mnist                      2018-06-19T14:49:45.446Z  tensorflow-1.5\n",
      "bcc1aeb3-136f-4a58-a103-ba1dea6fb5f1  KK3_w_fwl_fix_clt_keras_mnist            2018-05-08T10:50:44.342Z  tensorflow-1.5\n",
      "ed212b98-68dd-4d1b-ac6b-91dcde7402fd  KK3_w_fwl_fix_clt_keras_mnist            2018-05-08T10:45:37.267Z  tensorflow-1.5\n",
      "94e562e0-6316-4d0e-8623-aee6ffeb26cf  kk2_w_repo_clt_keras_mnist               2018-05-08T09:03:26.320Z  tensorflow-1.5\n",
      "2ee32a2c-f521-4a40-b773-fed2721859e9  KK1_client_test_keras_mnist              2018-05-08T08:46:29.844Z  tensorflow-1.5\n",
      "f60f672e-bcfd-4802-b200-611692792dd2  KK_client_test_keras_mnist               2018-05-08T08:26:39.936Z  tensorflow-1.5\n",
      "8716fe07-e38f-4df2-b8a5-b654cc01ef38  K_client_test_keras_mnist                2018-05-07T20:25:19.529Z  tensorflow-1.5\n",
      "aac58ba1-bc01-4da0-86f4-eb29b04327b6  K_client_test_keras_mnist                2018-05-07T20:19:42.186Z  tensorflow-1.5\n",
      "18e3ab74-68f7-406e-87a0-a3bcf034456e  K_client_test_keras_mnist                2018-05-07T04:51:03.259Z  tensorflow-1.5\n",
      "55d44da2-01f5-44d2-8fa5-d29ca353b950  K_client_test_keras_mnist                2018-05-06T15:45:18.963Z  tensorflow-1.5\n",
      "e8a547e4-4dfb-43b7-9e4c-0af8b3a31f02  keras_seq_mnist                          2018-03-14T15:30:25.773Z  tensorflow-1.5\n",
      "56f51d52-d8e0-4bae-869a-8d870e077b6e  k_keras_seq_mnist_local_tar              2018-03-14T06:18:49.891Z  tensorflow-1.5\n",
      "e75d04c5-9b23-4cc4-843a-751dbde7b497  k_keras_seq_mnist_local_tar              2018-03-14T06:02:38.170Z  tensorflow-1.5\n",
      "bc33125e-1fa6-4f85-a4c9-fe1fcbb33ede  k_tf15_yp_targz13                        2018-02-22T07:15:25.632Z  tensorflow-1.5\n",
      "a3b6b55a-2e3a-4d7c-8f5f-d4a9d2ddf4fa  k_tf15_mnist_180221_1                    2018-02-21T12:45:54.677Z  tensorflow-1.5\n",
      "ed71ad09-6c48-4adc-9326-40bd89f445c2  titanic_survival_prediction              2018-02-03T07:25:01.058Z  scikit-learn-0.17\n",
      "50a399be-b72f-4532-909f-ca54caed56c6  titanic_survival_prediction              2018-02-03T07:24:44.827Z  scikit-learn-0.17\n",
      "24f21bfb-8bd2-4a39-8aa5-533a717e7d91  titanic_survival_prediction              2018-02-03T04:45:43.517Z  scikit-learn-0.17\n",
      "e2e63b51-b544-4424-b0f3-7ec3ad9d862f  titanic_survival_prediction              2018-02-03T04:40:16.533Z  scikit-learn-0.17\n",
      "8122dd70-ffb5-4e95-9580-054a66bc2c59  titanic_survival_prediction              2018-02-03T04:27:30.873Z  scikit-learn-0.17\n",
      "b7705900-691a-48f3-9b18-2a9c31cf0d10  training-6F14eMwkg model saved from CLI  2017-12-11T10:06:09.108Z  tensorflow-1.2\n",
      "687d2797-98b7-4b93-a451-f78be3e7acf9  k_tf_mnist_171201_1                      2017-12-02T11:20:23.965Z  tensorflow-1.2\n",
      "acefe01a-b811-45a5-97b2-2e2f57623d09  customer_classification                  2017-09-22T06:08:16.784Z  scikit-learn-0.17\n",
      "8ff50630-169a-4ecf-b5b6-ea63bba8aa8d  XGB_Heart_Disease_Detection              2017-09-21T15:10:54.690Z  xgboost-0.6\n",
      "------------------------------------  ---------------------------------------  ------------------------  -----------------\n"
     ]
    }
   ],
   "source": [
    "client.repository.list_models()"
   ]
  },
  {
   "cell_type": "markdown",
   "metadata": {},
   "source": [
    "### 5.2 Create online deployment"
   ]
  },
  {
   "cell_type": "code",
   "execution_count": 89,
   "metadata": {},
   "outputs": [
    {
     "name": "stdout",
     "output_type": "stream",
     "text": [
      "\n",
      "\n",
      "#######################################################################################\n",
      "\n",
      "Synchronous deployment creation for uid: 'afb2639c-953f-4204-bced-79b91dcaa188' started\n",
      "\n",
      "#######################################################################################\n",
      "\n",
      "\n",
      "INITIALIZING\n",
      "DEPLOY_IN_PROGRESS.....\n",
      "DEPLOY_SUCCESS\n",
      "\n",
      "\n",
      "------------------------------------------------------------------------------------------------\n",
      "Successfully finished deployment creation, deployment_uid='e7ac36b9-75eb-4ad2-b9be-9a0178c54042'\n",
      "------------------------------------------------------------------------------------------------\n",
      "\n",
      "\n"
     ]
    }
   ],
   "source": [
    "deployment_details = client.deployments.create(name=\"k_flwr_test3\", model_uid=model_guid)"
   ]
  },
  {
   "cell_type": "markdown",
   "metadata": {},
   "source": [
    "Extract `scoring endpoint` from deployment details."
   ]
  },
  {
   "cell_type": "code",
   "execution_count": 90,
   "metadata": {},
   "outputs": [
    {
     "name": "stdout",
     "output_type": "stream",
     "text": [
      "https://ibm-watson-ml.mybluemix.net/v3/wml_instances/a91c300c-460b-4ebb-903f-992be2898028/deployments/e7ac36b9-75eb-4ad2-b9be-9a0178c54042/online\n"
     ]
    }
   ],
   "source": [
    "scoring_url = client.deployments.get_scoring_url(deployment_details)\n",
    "print(scoring_url)"
   ]
  },
  {
   "cell_type": "markdown",
   "metadata": {
    "collapsed": true
   },
   "source": [
    "## 6. Scoring"
   ]
  },
  {
   "cell_type": "markdown",
   "metadata": {},
   "source": [
    "Prepare sample scoring data to score deployed model."
   ]
  },
  {
   "cell_type": "code",
   "execution_count": 91,
   "metadata": {},
   "outputs": [],
   "source": [
    "from PIL import Image as pil_image\n",
    "import numpy as np"
   ]
  },
  {
   "cell_type": "code",
   "execution_count": 99,
   "metadata": {},
   "outputs": [],
   "source": [
    "image_path1 = \"/safe/dev/ngp/projects/face-incep/data/flw_test/test/sunflower/image_0793.jpg\"\n",
    "img1 = pil_image.open(image_path)\n",
    "img1 = img.convert('RGB')"
   ]
  },
  {
   "cell_type": "code",
   "execution_count": 101,
   "metadata": {},
   "outputs": [],
   "source": [
    "image_path2 = \"/safe/dev/ngp/projects/face-incep/data/flw_test/test/daffodil/image_0074.jpg\"\n",
    "img2 = pil_image.open(image_path2)\n",
    "img2 = img2.convert('RGB')"
   ]
  },
  {
   "cell_type": "markdown",
   "metadata": {},
   "source": [
    "Let's plot two images."
   ]
  },
  {
   "cell_type": "code",
   "execution_count": 93,
   "metadata": {},
   "outputs": [],
   "source": [
    "%matplotlib inline\n",
    "import matplotlib.pyplot as plt\n",
    "import numpy as np"
   ]
  },
  {
   "cell_type": "code",
   "execution_count": 102,
   "metadata": {},
   "outputs": [
    {
     "data": {
      "image/png": "[encoded data removed]",
      "text/plain": [
       "<Figure size 432x288 with 2 Axes>"
      ]
     },
     "metadata": {},
     "output_type": "display_data"
    }
   ],
   "source": [
    "for i, image in enumerate([img, img2]):\n",
    "    plt.subplot(2, 2, i + 1)\n",
    "    plt.axis('off')\n",
    "    plt.imshow(image, cmap=plt.cm.gray_r, interpolation='nearest')"
   ]
  },
  {
   "cell_type": "markdown",
   "metadata": {},
   "source": [
    "Our input node expects to get data with shape (256, 256, 3) so we need to reshape our two images."
   ]
  },
  {
   "cell_type": "code",
   "execution_count": 108,
   "metadata": {},
   "outputs": [],
   "source": [
    "img1 = img1.resize((256, 256),pil_image.NEAREST)\n",
    "x1 = np.asarray(img1, dtype='float32')\n",
    "\n",
    "img2 = img2.resize((256, 256),pil_image.NEAREST)\n",
    "x2 = np.asarray(img2, dtype='float32')"
   ]
  },
  {
   "cell_type": "markdown",
   "metadata": {},
   "source": [
    "Prepare scoring payload and score."
   ]
  },
  {
   "cell_type": "code",
   "execution_count": 113,
   "metadata": {},
   "outputs": [],
   "source": [
    "scoring_data = {'values': [x1.tolist(), x2.tolist()]}"
   ]
  },
  {
   "cell_type": "code",
   "execution_count": 114,
   "metadata": {},
   "outputs": [
    {
     "name": "stdout",
     "output_type": "stream",
     "text": [
      "Scoring result: {'fields': ['prediction'], 'values': [[0.00034502355265431106, 0.99965500831604], [0.9658812284469604, 0.03411881625652313]]}\n"
     ]
    }
   ],
   "source": [
    "predictions = client.deployments.score(scoring_url, scoring_data)\n",
    "print(\"Scoring result: \" + str(predictions))"
   ]
  },
  {
   "cell_type": "markdown",
   "metadata": {
    "collapsed": true
   },
   "source": [
    "<a id=\"summary\"></a>\n",
    "## 7. Summary and next steps     "
   ]
  },
  {
   "cell_type": "markdown",
   "metadata": {
    "collapsed": true
   },
   "source": [
    " You successfully completed this notebook! Check out our _[Online Documentation](https://console.ng.bluemix.net/docs/services/PredictiveModeling/index.html)_ for more samples, tutorials, documentation, how-tos, and blog posts. "
   ]
  },
  {
   "cell_type": "markdown",
   "metadata": {},
   "source": [
    "Copyright © 2018 IBM. This notebook and its source code are released under the terms of the MIT License."
   ]
  },
  {
   "cell_type": "code",
   "execution_count": null,
   "metadata": {},
   "outputs": [],
   "source": []
  }
 ],
 "metadata": {
  "kernelspec": {
   "display_name": "Python 3",
   "language": "python",
   "name": "python3"
  },
  "language_info": {
   "codemirror_mode": {
    "name": "ipython",
    "version": 3
   },
   "file_extension": ".py",
   "mimetype": "text/x-python",
   "name": "python",
   "nbconvert_exporter": "python",
   "pygments_lexer": "ipython3",
   "version": "3.6.5"
  }
 },
 "nbformat": 4,
 "nbformat_minor": 1
}
